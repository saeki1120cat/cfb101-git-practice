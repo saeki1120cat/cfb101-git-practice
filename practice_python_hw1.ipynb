{
 "cells": [
  {
   "cell_type": "markdown",
   "metadata": {},
   "source": [
    "1.輸入何種用電和度數，計算出需繳之電費。\n",
    "電力公司使用累計方式來計算電費，分工業用電及家庭用電。\n",
    "                   \t   家庭用電        工業用電\n",
    "   240度(含)以下\t\t0.15元\t\t\t0.45元\n",
    "   240~540(含)度   \t0.25元\t\t\t0.45元\n",
    "   540度以上        \t0.45元\t\t\t0.45元"
   ]
  },
  {
   "cell_type": "code",
   "execution_count": 12,
   "metadata": {},
   "outputs": [
    {
     "name": "stdout",
     "output_type": "stream",
     "text": [
      "請輸入電費300\n",
      "家庭用電為 75.0 元\n",
      "工業用電為 135.0 元\n"
     ]
    }
   ],
   "source": [
    "electricity_bill= int(input(\"請輸入電費:\"))\n",
    "if   electricity_bill <= 240:\n",
    "        print(\"家庭用電為\",electricity_bill*0.15,\"元\\n工業用電為\",electricity_bill*0.45,\"元\")\n",
    "elif electricity_bill >240 and electricity_bill<= 540:\n",
    "        print(\"家庭用電為\",electricity_bill*0.25,\"元\\n工業用電為\",electricity_bill*0.45,\"元\")\n",
    "else:\n",
    "        print(\"家庭用電為\",electricity_bill*0.45,\"元\\n工業用電為\",electricity_bill*0.45,\"元\")"
   ]
  },
  {
   "cell_type": "markdown",
   "metadata": {},
   "source": [
    "2.輸入月份1~12月，利用switch判斷相對應的季節春、夏、秋、冬並印出。若不在此範圍則印出”輸入錯誤”。"
   ]
  },
  {
   "cell_type": "code",
   "execution_count": 1,
   "metadata": {},
   "outputs": [
    {
     "name": "stdout",
     "output_type": "stream",
     "text": [
      "請輸入月份：5\n",
      "春\n"
     ]
    }
   ],
   "source": [
    "#此方法非使用switch\n",
    "\n",
    "month = int(input(\"請輸入月份：\"))\n",
    "if month >= 3 and month <= 5:\n",
    "    print(\"春\")\n",
    "elif month >= 6 and month <= 8:\n",
    "    print(\"夏\")\n",
    "elif month >= 9 and month <= 11:\n",
    "    print(\"秋\")\n",
    "elif month ==12 or month == 1 or month == 2 :\n",
    "    print(\"冬\")\n",
    "else:\n",
    "    print(\"輸入錯誤\")"
   ]
  },
  {
   "cell_type": "markdown",
   "metadata": {},
   "source": [
    "3.輸入便利商店工讀生的工作時數，並計算其薪資。\n",
    "60小時以內，時薪120元。\n",
    "61~80小時，以時薪1.25倍計算。\n",
    "81小時以上，以時薪1.5倍計算。\n",
    "說明：薪資以累計方式計算。若工時為90小時，則薪資為60 * 120 + 20 * 120 * 1.25 + 10 * 120 * 1.5元。"
   ]
  },
  {
   "cell_type": "code",
   "execution_count": 33,
   "metadata": {},
   "outputs": [
    {
     "name": "stdout",
     "output_type": "stream",
     "text": [
      "請輸入您的工作時數:88\n",
      "您的薪資為 11640.0 元\n"
     ]
    }
   ],
   "source": [
    "working_hours= int(input(\"請輸入您的工作時數:\"))\n",
    "if   working_hours <= 60:\n",
    "        print(\"您的薪資為\",working_hours*120,\"元\")\n",
    "elif working_hours >=61 and working_hours<=80:\n",
    "        working_hours_exceed60=(-(60-working_hours))\n",
    "        print(\"您的薪資為\",60*120+working_hours_exceed60*120*1.25,\"元\")\n",
    "else:\n",
    "        working_hours_exceed80=(-(80-working_hours))\n",
    "        print(\"您的薪資為\",60*120+20*120*1.25+working_hours_exceed80*120*1.5,\"元\")"
   ]
  },
  {
   "cell_type": "markdown",
   "metadata": {},
   "source": [
    "4.輸入一西元年，如2015。判斷此年份是否為閏年。\n",
    "提示：每四年一閏，每百年不閏，每四百年一閏，每四千年不閏。"
   ]
  },
  {
   "cell_type": "code",
   "execution_count": 46,
   "metadata": {},
   "outputs": [
    {
     "name": "stdout",
     "output_type": "stream",
     "text": [
      "請輸入一個年份:400\n",
      "400年是閏年\n"
     ]
    }
   ],
   "source": [
    "year = int(input(\"請輸入一個年份:\"))\n",
    "if (year % 4) == 0:\n",
    "    if (year % 100) == 0:\n",
    "        if (year % 400) == 0:\n",
    "            if (year % 4000) == 0:   \n",
    "                print(\"%s年不是閏年\" % year)\n",
    "            else:\n",
    "                print(\"%s年是閏年\" % year) \n",
    "        else:\n",
    "            print(\"%s年不是閏年\" % year)\n",
    "    else:\n",
    "        print(\"%s年是閏年\" % year)\n",
    "\n",
    "else:\n",
    "    print(\"%s年不是閏年\" % year)"
   ]
  },
  {
   "cell_type": "markdown",
   "metadata": {},
   "source": [
    "5.輸入在某商店購物應付金額與實付金額。\n",
    "實付金額小於應付金額，則印出”金額不足”。\n",
    "實付金額等於應付金額，則印出”不必找錢”。\n",
    "實付金額大於應付金額，則輸出找回金額最少的鈔票數和錢幣數。\n",
    "假設幣值只有1000, 500, 100元紙鈔和50, 10, 5, 1元硬幣。\n",
    "說明：若買了132元的商品，付1000元，應找回一張500元，三張100元，一個50元硬幣，一個10元硬幣，一個5元硬幣和三個1元硬幣。"
   ]
  },
  {
   "cell_type": "code",
   "execution_count": 3,
   "metadata": {},
   "outputs": [
    {
     "name": "stdout",
     "output_type": "stream",
     "text": [
      "您的實付金額為:2000\n",
      "您應付金額為:699\n",
      "應找回\n",
      " 1 張1000元\n",
      " 0 張500元\n",
      " 3 張100元\n",
      " 0 張50元\n",
      " 0 張10元\n",
      " 1 張1元\n"
     ]
    }
   ],
   "source": [
    "#currency_value=cv\n",
    "Paid=int(input(\"您的實付金額為:\"))\n",
    "Payable=int(input(\"您應付金額為:\"))\n",
    "if Paid<Payable:\n",
    "    print(\"金額不足\")\n",
    "elif Paid==Payable:\n",
    "    print(\"不必找錢\")\n",
    "else:\n",
    "    make_change=Paid-Payable\n",
    "    cv1000=(make_change)//1000\n",
    "    cv500=(make_change-cv1000*1000)//500\n",
    "    cv100=(make_change-cv1000*1000-cv500*500)//100\n",
    "    cv50=(make_change-cv1000*1000-cv500*500-cv100*100)//50\n",
    "    cv10=(make_change-cv1000*1000-cv500*500-cv100*100-cv50*50)//10\n",
    "    cv1=make_change-cv1000*1000-cv500*500-cv100*100-cv50*50-cv10*10\n",
    "    print(\"應找回\\n\",cv1000,\"張1000元\\n\",cv500,\"張500元\\n\",cv100,\"張100元\\n\",cv50,\"張50元\\n\",cv10,\"張10元\\n\",cv1,\"張1元\")"
   ]
  },
  {
   "cell_type": "markdown",
   "metadata": {},
   "source": [
    "6.一元二次方程式ax2+bx+c=0。輸入a, b, c三值，並計算方程式的根。\n",
    "b2-4ac > 0，有兩個不相等的實根。\n",
    "b2-4ac = 0，有兩個相等的實根。\n",
    "b2-4ac < 0，則印出”沒有實根”。"
   ]
  },
  {
   "cell_type": "code",
   "execution_count": 61,
   "metadata": {},
   "outputs": [
    {
     "name": "stdout",
     "output_type": "stream",
     "text": [
      "a=10\n",
      "b=20\n",
      "c=15\n",
      "沒有實根\n"
     ]
    }
   ],
   "source": [
    "a=int(input(\"a=\"))\n",
    "b=int(input(\"b=\"))\n",
    "c=int(input(\"c=\"))\n",
    "d=b**2-4*a*c\n",
    "if   d>0:\n",
    "    print(\"有兩個不相等的實根\")\n",
    "elif d==0:\n",
    "    print(\"有兩個相等的實根\")\n",
    "else:\n",
    "    print(\"沒有實根\")"
   ]
  }
 ],
 "metadata": {
  "kernelspec": {
   "display_name": "Python 3",
   "language": "python",
   "name": "python3"
  },
  "language_info": {
   "codemirror_mode": {
    "name": "ipython",
    "version": 3
   },
   "file_extension": ".py",
   "mimetype": "text/x-python",
   "name": "python",
   "nbconvert_exporter": "python",
   "pygments_lexer": "ipython3",
   "version": "3.8.5"
  },
  "varInspector": {
   "cols": {
    "lenName": 16,
    "lenType": 16,
    "lenVar": 40
   },
   "kernels_config": {
    "python": {
     "delete_cmd_postfix": "",
     "delete_cmd_prefix": "del ",
     "library": "var_list.py",
     "varRefreshCmd": "print(var_dic_list())"
    },
    "r": {
     "delete_cmd_postfix": ") ",
     "delete_cmd_prefix": "rm(",
     "library": "var_list.r",
     "varRefreshCmd": "cat(var_dic_list()) "
    }
   },
   "types_to_exclude": [
    "module",
    "function",
    "builtin_function_or_method",
    "instance",
    "_Feature"
   ],
   "window_display": false
  }
 },
 "nbformat": 4,
 "nbformat_minor": 5
}
