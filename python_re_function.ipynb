{
 "cells": [
  {
   "cell_type": "markdown",
   "metadata": {},
   "source": [
    "### 第一題\n",
    "### 1-1 將文章內的數字全部替代成*\n",
    "### 1-2 找出文章內最長的數字串"
   ]
  },
  {
   "cell_type": "code",
   "execution_count": 2,
   "metadata": {},
   "outputs": [],
   "source": [
    "docs = \"\"\"上蓋顏色：黑色 \n",
    "處理器：Intel Core i7-10510U Processor ( 1.80GHz 8MB ) \n",
    "記憶體：16.0GB DDR4 SDRAM 2666 DDR4 SDRAM Onboard 2666MHz \n",
    "光碟機：NA \n",
    "硬碟機：512GB_SSD_M.2_2280_NVME_TLC_OP \n",
    "顯示晶片：Intel UHD 顯示卡 \n",
    "螢幕：13.3\"FHD, IPS, AntiGlare, LED Backlight, Non-Touch 1920x1080 \n",
    "音訊：Dolby Audio Premium®/降噪雙陣列遠場麥克風 \n",
    "網路攝影機：720p \n",
    "有線網路：無 \n",
    "無線網路：Intel Wi-Fi 6 AX201 2x2a \n",
    "藍芽：5.1 版 \n",
    "讀卡機：Y \n",
    "連接埠： \n",
    "2 x USB 3.1 Gen 1 \n",
    "2 x USB-C \n",
    "HDMI：1 x HDMI \n",
    "鍵盤：採用白色 LED 照明的背光功能 \n",
    "尺寸：311.5 公釐 x 219 公釐 x 17.6 公釐 \n",
    "重量：1.38kg \n",
    "作業系統：Windows 10 PRO \n",
    "電池：4 Cell 鋰聚合物電池 45Wh \n",
    "指紋辨識：Y \n",
    "快充：Y \n",
    "國際條碼 (EAN)：195477313408 \n",
    "保固：1年台灣保固\"\"\""
   ]
  },
  {
   "cell_type": "code",
   "execution_count": 3,
   "metadata": {},
   "outputs": [
    {
     "name": "stdout",
     "output_type": "stream",
     "text": [
      "上蓋顏色：黑色 \n",
      "處理器：Intel Core i*-*****U Processor ( *.**GHz *MB ) \n",
      "記憶體：**.*GB DDR* SDRAM **** DDR* SDRAM Onboard ****MHz \n",
      "光碟機：NA \n",
      "硬碟機：***GB_SSD_M.*_****_NVME_TLC_OP \n",
      "顯示晶片：Intel UHD 顯示卡 \n",
      "螢幕：**.*\"FHD, IPS, AntiGlare, LED Backlight, Non-Touch ****x**** \n",
      "音訊：Dolby Audio Premium®/降噪雙陣列遠場麥克風 \n",
      "網路攝影機：***p \n",
      "有線網路：無 \n",
      "無線網路：Intel Wi-Fi * AX*** *x*a \n",
      "藍芽：*.* 版 \n",
      "讀卡機：Y \n",
      "連接埠： \n",
      "* x USB *.* Gen * \n",
      "* x USB-C \n",
      "HDMI：* x HDMI \n",
      "鍵盤：採用白色 LED 照明的背光功能 \n",
      "尺寸：***.* 公釐 x *** 公釐 x **.* 公釐 \n",
      "重量：*.**kg \n",
      "作業系統：Windows ** PRO \n",
      "電池：* Cell 鋰聚合物電池 **Wh \n",
      "指紋辨識：Y \n",
      "快充：Y \n",
      "國際條碼 (EAN)：************ \n",
      "保固：*年台灣保固\n"
     ]
    }
   ],
   "source": [
    "# 1-1 將 docs 內的數字全部替代成 '$'\n",
    "import re\n",
    "print(re.sub(\"\\d\", \"*\", docs))"
   ]
  },
  {
   "cell_type": "code",
   "execution_count": 3,
   "metadata": {},
   "outputs": [
    {
     "name": "stdout",
     "output_type": "stream",
     "text": [
      "195477313408\n"
     ]
    }
   ],
   "source": [
    "#1-2 找出 docs 內最長的數字串,包含整數跟小數\n",
    "import re\n",
    "doc = re.findall(\"[\\d\\.*]+\", docs)\n",
    "max_doc = max(doc, key=len, default='')\n",
    "print(max_doc)"
   ]
  },
  {
   "cell_type": "markdown",
   "metadata": {},
   "source": [
    "### 第二題"
   ]
  },
  {
   "cell_type": "code",
   "execution_count": 5,
   "metadata": {},
   "outputs": [
    {
     "data": {
      "text/plain": [
       "[[1, 2, 3], [4, 5, 6], [7, 8, 9]]"
      ]
     },
     "execution_count": 5,
     "metadata": {},
     "output_type": "execute_result"
    }
   ],
   "source": [
    "#2-1\n",
    "def grouping_list(group, data):\n",
    "    \"\"\"\n",
    "將輸入的序列化物件分組\n",
    ":param group: int, 一組要有幾個元素\n",
    ":param data: iterable object, 欲分組之物件\n",
    ":return: list\n",
    "    \"\"\"\n",
    "    data_list= []\n",
    "    for i in range(0, len(data), group):  \n",
    "        data_list.append(data[i:i+group])\n",
    "    return data_list\n",
    "\n",
    "a = [1, 2, 3, 4, 5, 6, 7, 8, 9]\n",
    "grouping_list(3, a)\n",
    "# output : [[1, 2, 3], [4, 5, 6], [7, 8, 9]]"
   ]
  },
  {
   "cell_type": "code",
   "execution_count": 29,
   "metadata": {},
   "outputs": [
    {
     "data": {
      "text/plain": [
       "'二十五'"
      ]
     },
     "execution_count": 29,
     "metadata": {},
     "output_type": "execute_result"
    }
   ],
   "source": [
    "#2-2 此轉換上限為百\n",
    "def number_to_chinese1(number):\n",
    "    \"\"\"\n",
    "    將數字轉換成中文表示\n",
    "    若無法轉換，則回傳 None\n",
    "    考慮到「百」即可\n",
    "    :param number: int\n",
    "    :return: str\n",
    "    \"\"\"\n",
    "    str_number = str(number)\n",
    "    if str_number == \"0\":\n",
    "        print(\"零\")\n",
    "    elif len(str_number) >3:\n",
    "        print(\"%s超過轉換範圍!\" %number)\n",
    "        return None\n",
    "    else:\n",
    "        chinese_num=[\"零\", \"一\", \"二\", \"三\", \"四\", \"五\", \"六\", \"七\", \"八\", \"九\"]\n",
    "        chienes_digits=[ \"\", \"十\", \"百\"]\n",
    "        number2 = \"\"\n",
    "\n",
    "        for i in range(0,len(str_number)):\n",
    "            number2+=chinese_num[int(str_number[i])]+chienes_digits[len(str_number)-i-1]\n",
    "            \n",
    "        while \"零\" in number2:\n",
    "            if \"零零\"in number2:\n",
    "                number2 = number2.replace( \"零零\", \"零\")\n",
    "            elif \"零十\"in number2:\n",
    "                number2 = number2.replace( \"零十\", \"零\")\n",
    "            elif number2[:2] == \"一十\":\n",
    "                number2 = number2[1:]\n",
    "            else:\n",
    "                break\n",
    "        return number2\n",
    "\n",
    "number = 25\n",
    "number_to_chinese(number)\n",
    "# output : '二十五'"
   ]
  },
  {
   "cell_type": "code",
   "execution_count": 28,
   "metadata": {},
   "outputs": [
    {
     "data": {
      "text/plain": [
       "'七億八千六百三十七萬五千一百零二'"
      ]
     },
     "execution_count": 28,
     "metadata": {},
     "output_type": "execute_result"
    }
   ],
   "source": [
    "#2-2 此轉換上限為千億\n",
    "def number_to_chinese(number):\n",
    "    \"\"\"\n",
    "    將數字轉換成中文表示\n",
    "    若無法轉換，則回傳 None\n",
    "    考慮到「億」即可\n",
    "    :param number: int\n",
    "    :return: str\n",
    "    \"\"\"\n",
    "    str_number = str(number)\n",
    "    if str_number == \"0\":\n",
    "        print(\"零\")\n",
    "    else:\n",
    "        if len(str_number) > 4:\n",
    "            str_number = str_number[-4:]\n",
    "        chinese_num=[\"零\", \"一\", \"二\", \"三\", \"四\", \"五\", \"六\", \"七\", \"八\", \"九\"]\n",
    "        chienes_digits=[ \"\", \"十\", \"百\", \"千\"]\n",
    "        number2 = \"\"\n",
    "\n",
    "        for i in range(0,len(str_number)):\n",
    "            number2+=chinese_num[int(str_number[i])]+chienes_digits[len(str_number)-i-1]\n",
    "            \n",
    "        while \"零\" in number2:\n",
    "            if \"零零\"in number2:\n",
    "                number2 = number2.replace( \"零零\", \"零\")\n",
    "            elif \"零十\"in number2:\n",
    "                number2 = number2.replace( \"零十\", \"零\")\n",
    "            elif \"零百\"in number2:\n",
    "                number2 = number2.replace( \"零百\", \"零\")\n",
    "            elif \"零千\" in number2:\n",
    "                number2 = number2.replace( \"零千\", \"零\") \n",
    "            elif number2[-1] == \"零\":\n",
    "                number2 = number2[:-1]\n",
    "            elif number2[:2] == \"一十\":\n",
    "                number2 = number2[1:]\n",
    "            else:\n",
    "                break\n",
    " \n",
    "        if len(str(number)) > 4 and len(str(number)) <= 8:\n",
    "            return number_to_chinese(str(number)[:-4])+ \"萬\"+ number2\n",
    "        elif len(str(number)) > 8 and len(str(number)) <= 12:\n",
    "            return number_to_chinese(str(number)[:-8])+ \"億\"+ number_to_chinese(str(number)[-8:-4])+ \"萬\"+ number2\n",
    "        elif len(str(number)) > 12:\n",
    "            print(\"%s超過轉換範圍!\" %number)\n",
    "            return None\n",
    "        else:\n",
    "            return number2\n",
    "\n",
    "        \n",
    "        \n",
    "number=786375102\n",
    "number_to_chinese(number)"
   ]
  },
  {
   "cell_type": "code",
   "execution_count": 8,
   "metadata": {},
   "outputs": [
    {
     "data": {
      "text/plain": [
       "25"
      ]
     },
     "execution_count": 8,
     "metadata": {},
     "output_type": "execute_result"
    }
   ],
   "source": [
    "#2-3\n",
    "def chinese_to_number(number):\n",
    "    \"\"\"\n",
    "        將數字轉換成中文表示\n",
    "        若無法轉換，則回傳 None\n",
    "        考慮到「百」即可\n",
    "    :param number: str\n",
    "    :return: int\n",
    "    \"\"\"\n",
    "    chinese_number={\"零\": 0, \"一\": 1, \"二\": 2, \"三\": 3, \"四\": 4, \"五\": 5, \"六\": 6, \"七\": 7, \"八\": 8, \"九\": 9, \"十\": 10, \"百\": 100, \"千\": 1000, \"萬\": 10000}\n",
    "    total_number = 0\n",
    "    digits_number = 1\n",
    "        \n",
    "    for i in range(len(number.strip())- 1,-1,-1):\n",
    "        number_val=chinese_number.get(number.strip()[i])\n",
    "        if number_val is None:\n",
    "            print(\"「%s」無法轉換成文字\" %number)\n",
    "            return None\n",
    "        elif number_val >= 10:\n",
    "            if number_val > digits_number:\n",
    "                digits_number = number_val\n",
    "            else:\n",
    "                digits_number = digits_number * number_val\n",
    "        elif number_val >= 10 and i == 0:\n",
    "            if number_val > digits_number:\n",
    "                digits_number = number_val\n",
    "                total_number = total_number + number_val\n",
    "            else:\n",
    "                digits_number = digits_number * number_val\n",
    "        else:\n",
    "            total_number = total_number + digits_number * number_val\n",
    "    return total_number\n",
    " \n",
    "    \n",
    "number = '二十五'\n",
    "chinese_to_number(number)\n",
    "# output : 25"
   ]
  },
  {
   "cell_type": "code",
   "execution_count": 12,
   "metadata": {},
   "outputs": [
    {
     "data": {
      "text/plain": [
       "[['一', '二', '三'], [4, 5, 6], ['七', '八', '九']]"
      ]
     },
     "execution_count": 12,
     "metadata": {},
     "output_type": "execute_result"
    }
   ],
   "source": [
    "#2-4\n",
    "def exchange_and_group_data(group, data):\n",
    "    \"\"\"\n",
    "    將輸入的序列化物件分組並轉讓中文跟數字之間做轉換\n",
    "    :param group: int, 一組要有幾個元素\n",
    "    :param data: iterable object, 欲分組之物件\n",
    "    :return: list\n",
    "    \"\"\"\n",
    "    data_listex=[]\n",
    "    for i in range(len(data)):\n",
    "        data_num=data[i]\n",
    "        if type(data_num) is int: \n",
    "            data_num2=number_to_chinese(data_num)\n",
    "            data_listex.append(data_num2)     \n",
    "        else:\n",
    "            data_num3=chinese_to_number(data_num)\n",
    "            data_listex.append(data_num3)\n",
    "    \n",
    "    return grouping_list(group, data_listex)\n",
    "\n",
    "a = [1, 2, 3, '四', '五', '六', 7, 8, 9]\n",
    "exchange_and_group_data(3, a)\n",
    "# output : [['一', '二', '三'], [4, 5, 6], ['七', '八', '九']]"
   ]
  }
 ],
 "metadata": {
  "kernelspec": {
   "display_name": "Python 3",
   "language": "python",
   "name": "python3"
  },
  "language_info": {
   "codemirror_mode": {
    "name": "ipython",
    "version": 3
   },
   "file_extension": ".py",
   "mimetype": "text/x-python",
   "name": "python",
   "nbconvert_exporter": "python",
   "pygments_lexer": "ipython3",
   "version": "3.8.10"
  },
  "varInspector": {
   "cols": {
    "lenName": 16,
    "lenType": 16,
    "lenVar": 40
   },
   "kernels_config": {
    "python": {
     "delete_cmd_postfix": "",
     "delete_cmd_prefix": "del ",
     "library": "var_list.py",
     "varRefreshCmd": "print(var_dic_list())"
    },
    "r": {
     "delete_cmd_postfix": ") ",
     "delete_cmd_prefix": "rm(",
     "library": "var_list.r",
     "varRefreshCmd": "cat(var_dic_list()) "
    }
   },
   "types_to_exclude": [
    "module",
    "function",
    "builtin_function_or_method",
    "instance",
    "_Feature"
   ],
   "window_display": false
  }
 },
 "nbformat": 4,
 "nbformat_minor": 4
}
