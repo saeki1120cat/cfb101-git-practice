{
 "cells": [
  {
   "cell_type": "code",
   "execution_count": 16,
   "id": "6c5334b4",
   "metadata": {},
   "outputs": [
    {
     "name": "stdout",
     "output_type": "stream",
     "text": [
      "請輸入欲進行檔名更改的檔案路徑D:\\yoshi\\Pictures\\Saved Pictures\n",
      "想要改的檔名ensemble_star\n",
      "輸入針對的資料型別png\n",
      "['desktop.ini', 'Screenshot_20210721-140801.png']\n",
      "desktop.ini\n",
      "D:/yoshi/Pictures/Saved Pictures/Screenshot_20210721-140801.png>>>D:/yoshi/Pictures/Saved Pictures/ensemble_star2.png\n"
     ]
    }
   ],
   "source": [
    "import os\n",
    "import sys\n",
    "\n",
    "path = str(input('請輸入欲進行檔名更改的檔案路徑'))#這就是欲進行檔名更改的檔案路徑\n",
    "new_name = str(input('想要改的檔名'))\n",
    "data_type = str('.' + input('輸入針對的資料型別'))\n",
    "\n",
    "path_replace = path.replace('\\\\','/')\n",
    "\n",
    "files = os.listdir(path_replace)\n",
    "\n",
    "print(files) #印出讀取到的檔名稱，用來確認自己是不是真的有讀到\n",
    "\n",
    "n=0 #設定初始值\n",
    "for i in files: #因為資料夾裡面的檔案都要重新更換名稱\n",
    "    if data_type in i:\n",
    "        oldname = path_replace + '/' + files[n] #指出檔案現在的路徑名稱，[n]表示第n個檔案\n",
    "        newname = path_replace + '/' + new_name + str(n+1) + data_type\n",
    "        os.rename(oldname,newname)\n",
    "        print(oldname+'>>>'+newname) #印出原名與更名後的新名，確認每個檔案的新舊對應\n",
    "        n = n+1 #當有不止一個檔案的時候，依次對每一個檔案進行上面的流程，直到更換完畢就會結束\n",
    "    else:\n",
    "        print(i)\n",
    "        n = n+1"
   ]
  },
  {
   "cell_type": "code",
   "execution_count": null,
   "id": "26889768",
   "metadata": {},
   "outputs": [],
   "source": [
    "import cv2\n",
    "import sys\n",
    "from glob import glob\n",
    "\n",
    "def main():\n",
    "    args = sys.argv\n",
    "    dir_name = agrs[1]\n",
    "    videos_path = glob(f'{dir_name}*.mov')\n",
    "    \n",
    "    total_time = 0\n",
    "    for video_path in videos_path:\n",
    "        cap = cv2.VideoCapture(video_path)\n",
    "        video_frame_count = cap.get(cv2.CAP_PROP_FRAME_COUNT)\n",
    "        video_fps = cap.get(cv2.CAP_PROP_FPS)\n",
    "        time = video_frame_count / video_fps\n",
    "        total_time +=time\n",
    "    \n",
    "    total_time = round(total_time/60/60, 2)\n",
    "    print(f'合計時間:{total_time}')\n",
    "    \n",
    "if __name__ == \"__main__\":\n",
    "    main()\n",
    "\n"
   ]
  }
 ],
 "metadata": {
  "kernelspec": {
   "display_name": "Python38",
   "language": "python",
   "name": "python38"
  },
  "language_info": {
   "codemirror_mode": {
    "name": "ipython",
    "version": 3
   },
   "file_extension": ".py",
   "mimetype": "text/x-python",
   "name": "python",
   "nbconvert_exporter": "python",
   "pygments_lexer": "ipython3",
   "version": "3.8.10"
  }
 },
 "nbformat": 4,
 "nbformat_minor": 5
}
