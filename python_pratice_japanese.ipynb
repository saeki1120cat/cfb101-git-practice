{
 "cells": [
  {
   "cell_type": "markdown",
   "metadata": {},
   "source": [
    "http://yay.cla.kobe-u.ac.jp/~jm/edu/2016/PB/python3/python3ex01.html"
   ]
  },
  {
   "cell_type": "markdown",
   "metadata": {},
   "source": [
    "#### 練習01 計算する\n",
    "\n",
    "整数２つの数の計算を行なうプログラムを書きなさい。計算は足し算、引き算、かけ算、割り算の商と余り、実数の割り算の５つが答えとして出るようにしなさい。"
   ]
  },
  {
   "cell_type": "code",
   "execution_count": 3,
   "metadata": {},
   "outputs": [
    {
     "name": "stdout",
     "output_type": "stream",
     "text": [
      "56\n",
      "54\n",
      "56 ＋ 54 = 110\n",
      "56 − 54 = 2\n",
      "56 × 54 = 3024\n",
      "56 ÷ 54 = 1 余り 2\n",
      "56 ÷ 54 = 1.037037037037037\n"
     ]
    }
   ],
   "source": [
    "a =int(input())\n",
    "b =int(input())\n",
    "wa = a + b\n",
    "sa = a - b\n",
    "seki = a * b\n",
    "sho1 = a // b\n",
    "amari = a % b\n",
    "sho2 = a / b\n",
    "print(a,'＋',b,'=',wa,sep=' ')\n",
    "print(a,'−',b,'=',sa,sep=' ')\n",
    "print(a,'×',b,'=',seki,sep=' ')\n",
    "print(a,'÷',b,'=',sho1,'余り',amari,sep=' ')\n",
    "print(a,'÷',b,'=',sho2,sep=' ')"
   ]
  },
  {
   "cell_type": "markdown",
   "metadata": {},
   "source": [
    "#### 練習02 データ入力\n",
    "キーボードから英語と算数と国語の成績を入力し、入力された得点とともに、得点の合計と平均を計算して表示するプログラムを作成せよ。"
   ]
  },
  {
   "cell_type": "code",
   "execution_count": 8,
   "metadata": {},
   "outputs": [
    {
     "name": "stdout",
     "output_type": "stream",
     "text": [
      "英語の成績を入力して下さい85\n",
      "数学の成績を入力して下さい98\n",
      "国語の成績を入力して下さい73\n",
      "英語の得点: 85\n",
      "数学の得点: 98\n",
      "国語の得点: 73\n",
      "合　　　計: 256\n",
      "平　　　均: 85.333\n"
     ]
    }
   ],
   "source": [
    "eigo = int(input('英語の成績を入力して下さい'))\n",
    "sugaku = int(input('数学の成績を入力して下さい'))\n",
    "kokugo = int(input('国語の成績を入力して下さい'))\n",
    "gokei = eigo + sugaku + kokugo\n",
    "heikin = round(gokei / 3, 3)\n",
    "print('英語の得点:',eigo,sep=' ')\n",
    "print('数学の得点:',sugaku,sep=' ')\n",
    "print('国語の得点:',kokugo,sep=' ')\n",
    "print('合　　　計:',gokei,sep=' ')\n",
    "print('平　　　均:',heikin,sep=' ')"
   ]
  },
  {
   "cell_type": "markdown",
   "metadata": {},
   "source": [
    "#### 練習03 BMI(Body Mass Index)\n",
    "　健康のために肥満度をチェックしてみましょう。身長と体重を入力してあなたの肥満度（BMI＝体重(kg)÷身長(m)の二乗）を計算するプログラムを作成し、判定基準に従って、18.5未満→やせ、18.5〜25未満→標準、25〜30未満→肥満、30以上→高度肥満という判定を返すプログラムを作りなさい。"
   ]
  },
  {
   "cell_type": "code",
   "execution_count": 15,
   "metadata": {},
   "outputs": [
    {
     "name": "stdout",
     "output_type": "stream",
     "text": [
      "身長の単位を選択してください 1:m  2:cm (1または2を入力して下さい) =>2\n",
      "身長を入力して下さい154.5\n",
      "体重の単位を選択してください 1:kg  2:lb (1または2を入力して下さい) =>1\n",
      "体重を入力して下さい48\n",
      "BMI =  20.10871272818676\n",
      "あなたは「標準」です。\n"
     ]
    }
   ],
   "source": [
    "mORcm = int(input(\"身長の単位を選択してください 1:m  2:cm (1または2を入力して下さい) =>\"))\n",
    "height = float(input('身長を入力して下さい'))\n",
    "kgORlb = int(input(\"体重の単位を選択してください 1:kg  2:lb (1または2を入力して下さい) =>\"))\n",
    "weight = float(input('体重を入力して下さい'))\n",
    "\n",
    "if mORcm == 2:\n",
    "    height = height/100\n",
    "if kgORlb == 2:\n",
    "    weight = weight*0.453\n",
    "\n",
    "bmi = weight/(height**2)\n",
    "print('BMI = ',bmi,sep=' ')\n",
    "\n",
    "if bmi < 18.5 :\n",
    "    print('あなたは「'+'痩せすぎ'+'」です。')\n",
    "elif bmi >= 18.5 and bmi < 25.0 :\n",
    "    print('あなたは「'+'標準'+'」です。')\n",
    "elif bmi >= 25.0 and bmi < 30.0 :\n",
    "    print('あなたは「'+'肥満'+'」です。')\n",
    "else :\n",
    "    print('あなたは「'+'高度肥満'+'」です。')"
   ]
  },
  {
   "cell_type": "markdown",
   "metadata": {},
   "source": [
    "#### 練習04 時速秒速変換\n",
    "時速を秒速に直しましょう。時速をkm/hの単位で入力すると、秒速がm/sの単位で表示されるプログラムを書きなさい。"
   ]
  },
  {
   "cell_type": "code",
   "execution_count": 17,
   "metadata": {},
   "outputs": [
    {
     "name": "stdout",
     "output_type": "stream",
     "text": [
      "時速(km/h) =>120\n",
      "秒速 = 33.333333333333336 m/s\n"
     ]
    }
   ],
   "source": [
    "kmhspeed = float(input('時速(km/h) =>'))\n",
    "msspeed = kmhspeed*1000/(60**2)\n",
    "print('秒速 =',msspeed,'m/s',sep=' ')"
   ]
  },
  {
   "cell_type": "markdown",
   "metadata": {},
   "source": [
    "#### 練習05 整数曜日変換\n",
    "0から6までの整数を入力して、それぞれ、0ならば「日曜」、1ならば「月曜」、...と結果を返すプログラムを書きなさい。但し、0〜6の数以外の数値が入力された場合には、「0から6までの数を入力してください」とメッセージを返すようにしなさい。"
   ]
  },
  {
   "cell_type": "code",
   "execution_count": 19,
   "metadata": {},
   "outputs": [
    {
     "name": "stdout",
     "output_type": "stream",
     "text": [
      "0から6までの整数を入力して下さい =>6\n",
      "土曜日\n"
     ]
    }
   ],
   "source": [
    "weeknumber = int(input('0から6までの整数を入力して下さい =>'))\n",
    "if weeknumber == 0 :\n",
    "    print('日曜日')\n",
    "elif weeknumber == 1 :\n",
    "    print('月曜日')\n",
    "elif weeknumber == 2 :\n",
    "    print('火曜日')\n",
    "elif weeknumber == 3 :\n",
    "    print('水曜日')\n",
    "elif weeknumber == 4 :\n",
    "    print('木曜日')\n",
    "elif weeknumber == 5 :\n",
    "    print('金曜日')\n",
    "elif weeknumber == 6 :\n",
    "    print('土曜日')\n",
    "else :\n",
    "    print('0から6までの整数を入力して下さい')"
   ]
  },
  {
   "cell_type": "markdown",
   "metadata": {},
   "source": [
    "#### 練習6 あなたの誕生日は何曜日？\n",
    "　Zëllerの公式(1887)という公式を使うと、1582年10月15日以降の日付から曜日を計算することができます。整数(int)として年をyear、月をmonth、日をdayとした時、曜日(weekday)は\n",
    " \n",
    " weekday = (year + (year // 4) - (year // 100) + (year // 400) + ((13*month+8) // 5) + day) % 7\n",
    "\n",
    "という式で計算できます。曜日は整数として0が日曜、1が月曜、...、6が土曜となります。\n",
    "但し、1月と2月はそれぞれ前の年の13月、14月として計算する必要があります。例えば、2000年1月というのは上の計算式では、1999年13月として計算しなければなりません。\n",
    "自分の誕生日を入力して、生まれた日が何曜日かを調べなさい。"
   ]
  },
  {
   "cell_type": "code",
   "execution_count": 27,
   "metadata": {},
   "outputs": [
    {
     "name": "stdout",
     "output_type": "stream",
     "text": [
      "年 =>1983\n",
      "月 =>13\n",
      "日 =>30\n",
      "誕生月を入力して下さい\n",
      "月 =>2\n",
      "1 から 29 まで日を入力して下さい\n",
      "日 =>30\n",
      "1 から 29 まで日を入力して下さい\n",
      "日 =>29\n",
      "1983年2月29日は火曜日です。\n"
     ]
    }
   ],
   "source": [
    "year = int(input('年 =>'))\n",
    "month = int(input('月 =>'))\n",
    "day = int(input('日 =>'))\n",
    "\n",
    "while month not in range(13):\n",
    "    print(\"誕生月を入力して下さい\")\n",
    "    month = int(input('月 =>'))\n",
    "\n",
    "if month == 1 or month == 3 or month == 5 or month == 7 or month == 8 or month == 10 or month == 12 :\n",
    "    while day not in range(32):\n",
    "        print(\"1 から 31 まで日を入力して下さい\")\n",
    "        day = int(input('日 =>'))\n",
    "elif month == 4 or month == 6 or month == 9 or month == 11 :\n",
    "    while day not in range(31):\n",
    "        print(\"1 から 30 まで日を入力して下さい\")\n",
    "        day = int(input('日 =>'))\n",
    "elif month == 2:\n",
    "    leap = False\n",
    "    if year % 400 == 0 :\n",
    "        leap = True\n",
    "    elif year % 100 == 0 :\n",
    "        leap = False\n",
    "    elif leap % 4 == 0 :\n",
    "        leap = True\n",
    "    \n",
    "    while leap == True and day not in range(30):\n",
    "        print(\"1 から 29 まで日を入力して下さい\")\n",
    "        day = int(input('日 =>')) \n",
    "    while leap == False and day not in range(29):\n",
    "        print(\"1 から 28 まで日を入力して下さい\")\n",
    "        day = int(input('日 =>'))\n",
    "        \n",
    "        \n",
    "datestr = str(year)+'年'+str(month)+'月'+str(day)+'日'\n",
    "if month == 1 or month == 2 :\n",
    "    year = year - 1\n",
    "    month = month + 12\n",
    "weekday = (year + (year // 4) - (year // 100) + (year // 400) + ((13*month+8) // 5) + day) % 7\n",
    "\n",
    "if weekday == 0 :\n",
    "    weekstr = '日曜日'\n",
    "elif weekday == 1 :\n",
    "    weekstr = '月曜日'\n",
    "elif weekday == 2 :\n",
    "    weekstr = '火曜日'\n",
    "elif weekday == 3 :\n",
    "    weekstr = '水曜日'\n",
    "elif weekday == 4 :\n",
    "    weekstr = '木曜日'\n",
    "elif weekday == 5 :\n",
    "    weekstr = '金曜日'\n",
    "elif weekday == 6 :\n",
    "    weekstr = '土曜日'\n",
    "print(datestr+'は'+weekstr+'です。')"
   ]
  },
  {
   "cell_type": "markdown",
   "metadata": {},
   "source": [
    "#### 練習7 数の比較 \n",
    "３つの数を入力し、数を昇順に並べ替えてから出力するプログラムを作成してください。"
   ]
  },
  {
   "cell_type": "code",
   "execution_count": 29,
   "metadata": {},
   "outputs": [
    {
     "name": "stdout",
     "output_type": "stream",
     "text": [
      "743\n",
      "325\n",
      "29\n",
      "29 325 743\n"
     ]
    }
   ],
   "source": [
    "a = int(input())\n",
    "b = int(input())\n",
    "c = int(input())\n",
    "if a > b :\n",
    "    temp = a\n",
    "    a = b\n",
    "    b = temp\n",
    "if a > c :\n",
    "    temp = a\n",
    "    a = c\n",
    "    c = temp\n",
    "if b > c :\n",
    "    temp = b\n",
    "    b = c\n",
    "    c = temp\n",
    "print(a,b,c,sep=' ')   "
   ]
  },
  {
   "cell_type": "markdown",
   "metadata": {},
   "source": [
    "#### 練習8 借金を返済しよう\n",
    "　借金をして月々、定額を返済していくと借金はどうなっていくのかを調べるプログラムを作成しよう。借金の金額と、利息の年利率(%)、月々の返済額を入力すると、毎月、借金がなくなるまで月数と借金の金額を表示するものとする。\n",
    " \n",
    " 月々の借金は、借金の利息年利率/12（月割り）分増加するが、返済分だけ減る。"
   ]
  },
  {
   "cell_type": "code",
   "execution_count": 30,
   "metadata": {},
   "outputs": [
    {
     "name": "stdout",
     "output_type": "stream",
     "text": [
      "借金 =>5000\n",
      "年利率(%) =>1.2\n",
      "返済額 =>300\n",
      "1月: 返済額 300 円 残り 4704\n",
      "2月: 返済額 300 円 残り 4409\n",
      "3月: 返済額 300 円 残り 4114\n",
      "4月: 返済額 300 円 残り 3818\n",
      "5月: 返済額 300 円 残り 3522\n",
      "6月: 返済額 300 円 残り 3225\n",
      "7月: 返済額 300 円 残り 2928\n",
      "8月: 返済額 300 円 残り 2631\n",
      "9月: 返済額 300 円 残り 2334\n",
      "10月: 返済額 300 円 残り 2036\n",
      "11月: 返済額 300 円 残り 1738\n",
      "12月: 返済額 300 円 残り 1440\n",
      "13月: 返済額 300 円 残り 1141\n",
      "14月: 返済額 300 円 残り 843\n",
      "15月: 返済額 300 円 残り 543\n",
      "16月: 返済額 300 円 残り 244\n",
      "17月: 返済額 244 円 これで完済。 返済総額:  5044 円\n"
     ]
    }
   ],
   "source": [
    "shakkin = int(input('借金 =>'))\n",
    "riritsu = float(input('年利率(%) =>'))\n",
    "hensai =  int(input('返済額 =>'))\n",
    "total = 0\n",
    "month = 0\n",
    "while shakkin > hensai :\n",
    "    month += 1\n",
    "    shakkin = shakkin*(1 + riritsu/12/100) - hensai\n",
    "    print(str(month)+'月: 返済額',hensai,'円','残り',\\\n",
    "    int(shakkin),sep=' ')\n",
    "    total += hensai\n",
    "month += 1\n",
    "shakkin = shakkin*(1 + riritsu/12/100)\n",
    "total += shakkin\n",
    "print(str(month)+'月: 返済額',int(shakkin),'円','これで完済。','返済総額: ',\\\n",
    "int(total),'円',sep=' ')"
   ]
  },
  {
   "cell_type": "code",
   "execution_count": null,
   "metadata": {},
   "outputs": [],
   "source": []
  }
 ],
 "metadata": {
  "kernelspec": {
   "display_name": "studyCFB101",
   "language": "python",
   "name": "studycfb101"
  },
  "language_info": {
   "codemirror_mode": {
    "name": "ipython",
    "version": 3
   },
   "file_extension": ".py",
   "mimetype": "text/x-python",
   "name": "python",
   "nbconvert_exporter": "python",
   "pygments_lexer": "ipython3",
   "version": "3.8.8"
  },
  "varInspector": {
   "cols": {
    "lenName": 16,
    "lenType": 16,
    "lenVar": 40
   },
   "kernels_config": {
    "python": {
     "delete_cmd_postfix": "",
     "delete_cmd_prefix": "del ",
     "library": "var_list.py",
     "varRefreshCmd": "print(var_dic_list())"
    },
    "r": {
     "delete_cmd_postfix": ") ",
     "delete_cmd_prefix": "rm(",
     "library": "var_list.r",
     "varRefreshCmd": "cat(var_dic_list()) "
    }
   },
   "types_to_exclude": [
    "module",
    "function",
    "builtin_function_or_method",
    "instance",
    "_Feature"
   ],
   "window_display": false
  }
 },
 "nbformat": 4,
 "nbformat_minor": 4
}
