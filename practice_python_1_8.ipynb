{
 "cells": [
  {
   "cell_type": "markdown",
   "metadata": {},
   "source": [
    "1.利用for迴圏計算1 * *2-2 * *2+3 * *2-4 * *2+…+49 * *2-50 * *2的值。"
   ]
  },
  {
   "cell_type": "code",
   "execution_count": 1,
   "metadata": {},
   "outputs": [
    {
     "name": "stdout",
     "output_type": "stream",
     "text": [
      "1275\n"
     ]
    }
   ],
   "source": [
    "sum_even = 0\n",
    "sum_odd = 0\n",
    "for i in range(1, 51, 1):\n",
    "    if i % 2 == 0:\n",
    "        sum_even = sum_even +i*i\n",
    "    else:\n",
    "        sum_odd = sum_odd+i*i\n",
    "print(sum_even-sum_odd)"
   ]
  },
  {
   "cell_type": "code",
   "execution_count": 2,
   "metadata": {
    "scrolled": true
   },
   "outputs": [
    {
     "name": "stdout",
     "output_type": "stream",
     "text": [
      "22100\n"
     ]
    }
   ],
   "source": [
    "#偶數平方總\n",
    "sum_even = 0\n",
    "for i in range(1, 51, 1):\n",
    "    if i % 2 == 0:\n",
    "        sum_even = sum_even +i*i\n",
    "print(sum_even)"
   ]
  },
  {
   "cell_type": "code",
   "execution_count": 3,
   "metadata": {},
   "outputs": [
    {
     "name": "stdout",
     "output_type": "stream",
     "text": [
      "20825\n"
     ]
    }
   ],
   "source": [
    "#奇數平方加總\n",
    "sum_odd = 0\n",
    "for i in range(1, 51, 1):\n",
    "    if i % 2 != 0:\n",
    "        sum_odd = sum_odd +i*i\n",
    "print(sum_odd)"
   ]
  },
  {
   "cell_type": "markdown",
   "metadata": {},
   "source": [
    "2.輸入一正整數，求其所有的因數。\n",
    "說明：36的因數為1, 2, 3, 4, 6, 9, 12, 18, 36。"
   ]
  },
  {
   "cell_type": "code",
   "execution_count": 35,
   "metadata": {},
   "outputs": [
    {
     "name": "stdout",
     "output_type": "stream",
     "text": [
      "請輸入一正整數:30\n",
      "30 的因數為 [1, 2, 3, 5, 6, 10, 15, 30]\n"
     ]
    }
   ],
   "source": [
    "num = int(input(\"請輸入一正整數:\"))\n",
    "i_list = []\n",
    "for i in range(1,num+1):\n",
    "        if num% i ==0 :\n",
    "            i_list.append(i)\n",
    "            continue\n",
    "        else:\n",
    "            pass\n",
    "if len(i_list) == 0:\n",
    "    print(\"此數字為質數\")\n",
    "else:\n",
    "    print(num,\"的因數為\",i_list)"
   ]
  },
  {
   "cell_type": "markdown",
   "metadata": {},
   "source": [
    "3.一個數字若等於其所有因數的總和，則此數為perfect number。\n",
    "找出100以內所有的完美數。\n",
    "說明：6的因數為1, 2, 3，6=1+2+3，故6為完美數。"
   ]
  },
  {
   "cell_type": "code",
   "execution_count": 5,
   "metadata": {},
   "outputs": [
    {
     "name": "stdout",
     "output_type": "stream",
     "text": [
      "1 6 28 為完美數\n"
     ]
    }
   ],
   "source": [
    "for i in range(1,101):      # 檢驗1～100間的所有數\n",
    "        facSum = 1          # 變數「不包含自身的因數和」，因必有因數1所以預設為1\n",
    "        for j in range(2, int(i**0.5)+1):          # 檢驗因數\n",
    "            if (i % j == 0):\n",
    "                if(i/j == j): # 若i為平方數，則找到j 1個因數\n",
    "                    facSum += j\n",
    "                else:         # 若i不為平方數，則找到j 及 i/j 2個因數\n",
    "                    facSum += j + int(i/j)\n",
    "        if (facSum == i):\n",
    "                print(str(i), end=' ')\n",
    "print(\"為完美數\")"
   ]
  },
  {
   "cell_type": "code",
   "execution_count": 7,
   "metadata": {},
   "outputs": [
    {
     "name": "stdout",
     "output_type": "stream",
     "text": [
      "想找的數字範圍內的完美數(最小)435\n",
      "想找的數字範圍內的完美數(最大)9988\n",
      "496 8128 為完美數\n"
     ]
    }
   ],
   "source": [
    "\n",
    "n=int(input(\"想找的數字範圍內的完美數(最小)\"))\n",
    "m=int(input(\"想找的數字範圍內的完美數(最大)\"))\n",
    "for i in range(n,m+1):      # 檢驗n～m間的所有數\n",
    "        facSum = 1          # 變數「不包含自身的因數和」，因必有因數1所以預設為1\n",
    "        for j in range(2, int(i**0.5)+1):          # 檢驗因數\n",
    "            if (i % j == 0):\n",
    "                if(i/j == j): # 若i為平方數，則找到j 1個因數\n",
    "                    facSum += j\n",
    "                else:         # 若i不為平方數，則找到j 及 i/j 2個因數\n",
    "                    facSum += j + int(i/j)\n",
    "        if (facSum == i):\n",
    "                print(str(i), end=' ')\n",
    "print(\"為完美數\")"
   ]
  },
  {
   "cell_type": "markdown",
   "metadata": {},
   "source": [
    "4.Amstrong數是指一個三位數的整數，其各位數之立方和等於該數本身。\n",
    "找出所有的Amstrong數。\n",
    "說明：153=13+53+33，故153為Amstrong數。"
   ]
  },
  {
   "cell_type": "code",
   "execution_count": 51,
   "metadata": {},
   "outputs": [
    {
     "name": "stdout",
     "output_type": "stream",
     "text": [
      "153\n",
      "370\n",
      "371\n",
      "407\n"
     ]
    }
   ],
   "source": [
    "for num in range(100,1000):  \n",
    "    sum = 0\n",
    "    total=num\n",
    "    \n",
    "    while total>0:\n",
    "        digit=total%10\n",
    "        sum+=digit**3\n",
    "        total//=10\n",
    "    \n",
    "    if num==sum:\n",
    "        print(num)"
   ]
  },
  {
   "cell_type": "markdown",
   "metadata": {},
   "source": [
    "5.輸入一正整數，找出所有小於或等於的質數。\n",
    "https://medium.com/@yaia52009/%E9%BC%A0%E5%B9%B4%E5%85%A8%E9%A6%AC%E9%90%B5%E4%BA%BA%E6%8C%91%E6%88%B0week3-python-%E8%BF%B4%E5%9C%88%E7%B5%90%E6%A7%8B-9bdbbeccd824"
   ]
  },
  {
   "cell_type": "code",
   "execution_count": 58,
   "metadata": {
    "scrolled": true
   },
   "outputs": [
    {
     "name": "stdout",
     "output_type": "stream",
     "text": [
      "輸入一正整數:400\n",
      "2\n",
      "3\n",
      "5\n",
      "7\n",
      "11\n",
      "13\n",
      "17\n",
      "19\n",
      "23\n",
      "29\n",
      "31\n",
      "37\n",
      "41\n",
      "43\n",
      "47\n",
      "53\n",
      "59\n",
      "61\n",
      "67\n",
      "71\n",
      "73\n",
      "79\n",
      "83\n",
      "89\n",
      "97\n",
      "101\n",
      "103\n",
      "107\n",
      "109\n",
      "113\n",
      "127\n",
      "131\n",
      "137\n",
      "139\n",
      "149\n",
      "151\n",
      "157\n",
      "163\n",
      "167\n",
      "173\n",
      "179\n",
      "181\n",
      "191\n",
      "193\n",
      "197\n",
      "199\n",
      "211\n",
      "223\n",
      "227\n",
      "229\n",
      "233\n",
      "239\n",
      "241\n",
      "251\n",
      "257\n",
      "263\n",
      "269\n",
      "271\n",
      "277\n",
      "281\n",
      "283\n",
      "293\n",
      "307\n",
      "311\n",
      "313\n",
      "317\n",
      "331\n",
      "337\n",
      "347\n",
      "349\n",
      "353\n",
      "359\n",
      "367\n",
      "373\n",
      "379\n",
      "383\n",
      "389\n",
      "397\n"
     ]
    }
   ],
   "source": [
    "def is_prime(n):\n",
    "    for i in range(2, n):\n",
    "        if n % i == 0:  # 整除，i 是 n 的因數，所以 n 不是質數。\n",
    "            return False\n",
    "    return True     # 都沒有人能整除，所以 n 是質數。\n",
    "\n",
    "n = int(input(\"輸入一正整數:\"))  # 得到輸入值 n。\n",
    "\n",
    "for i in range(2, n + 1):   # 產生 2 到 n 的數字。\n",
    "    i_is_prime = is_prime(i)    # 判斷 i 是否為質數。\n",
    "    if i_is_prime:              # 如果是，印出來。\n",
    "        print(i)\n"
   ]
  },
  {
   "cell_type": "markdown",
   "metadata": {},
   "source": [
    "6.若有一條繩子長3000公尺，每天剪去一半的長度，需多少天繩子的長度會短於5公尺。"
   ]
  },
  {
   "cell_type": "code",
   "execution_count": 9,
   "metadata": {
    "code_folding": []
   },
   "outputs": [],
   "source": [
    "day=0\n",
    "length=3000\n",
    "for i in range(length):\n",
    "    if length>=5:\n",
    "        continue\n",
    "        length=(length/2)\n",
    "        day+=1\n",
    "        print(\"第\",day,\"天,長度變為\",length,\"公尺\")\n",
    "    else:\n",
    "        break\n",
    "        print(\"總共需要\",day,\"天\")"
   ]
  },
  {
   "cell_type": "code",
   "execution_count": 41,
   "metadata": {},
   "outputs": [
    {
     "name": "stdout",
     "output_type": "stream",
     "text": [
      "第 1 天,長度變為 1500.0 公尺\n",
      "第 2 天,長度變為 750.0 公尺\n",
      "第 3 天,長度變為 375.0 公尺\n",
      "第 4 天,長度變為 187.5 公尺\n",
      "第 5 天,長度變為 93.75 公尺\n",
      "第 6 天,長度變為 46.875 公尺\n",
      "第 7 天,長度變為 23.4375 公尺\n",
      "第 8 天,長度變為 11.71875 公尺\n",
      "第 9 天,長度變為 5.859375 公尺\n",
      "第 10 天,長度變為 2.9296875 公尺\n"
     ]
    }
   ],
   "source": [
    "day=0\n",
    "length=3000\n",
    "while length>5: \n",
    "    length*=0.5 \n",
    "    day+=1 \n",
    "    print(\"第\",day,\"天,長度變為\",length,\"公尺\")"
   ]
  },
  {
   "cell_type": "markdown",
   "metadata": {},
   "source": [
    "7.老王養了一群兔子，若三隻三隻一數，剩餘一隻；若五隻五隻一數，剩餘三隻；若七隻七隻一數，剩餘二隻。試問兔子最少有幾隻。"
   ]
  },
  {
   "cell_type": "code",
   "execution_count": 1,
   "metadata": {},
   "outputs": [
    {
     "name": "stdout",
     "output_type": "stream",
     "text": [
      "兔子最少有 58 隻\n"
     ]
    }
   ],
   "source": [
    "x=0\n",
    "i=1\n",
    "for i in range(1,1000):\n",
    "    if(i%3==1):\n",
    "        x=i\n",
    "        if(i%5==3):\n",
    "            if(i%7==2):\n",
    "                x=i\n",
    "                print(\"兔子最少有\",x,\"隻\")\n",
    "                break\n",
    "    else:\n",
    "        i+=i"
   ]
  },
  {
   "cell_type": "markdown",
   "metadata": {},
   "source": [
    "8.出現”請輸入密碼”的提示，使用者有最多三次輸入的機會。\n",
    "若輸入正確，則印出”密碼輸入正確，歡迎使用本系統！”。\n",
    "若輸入不正確，再次出現”請輸入密碼”的提示。\n",
    "若三次輸入不正確，則印出”密碼輸入超過三次！”，並結束程式的執行。"
   ]
  },
  {
   "cell_type": "code",
   "execution_count": 34,
   "metadata": {},
   "outputs": [
    {
     "name": "stdout",
     "output_type": "stream",
     "text": [
      "請輸入密碼1234\n",
      "密碼輸入正確，歡迎使用本系統！\n"
     ]
    }
   ],
   "source": [
    "password=\"1234\"\n",
    "word=input(\"請輸入密碼\")\n",
    "count=0\n",
    "for count in range(3):\n",
    "    if word!=password:\n",
    "        count+=1\n",
    "        if count ==3 :\n",
    "            print(\"密碼輸入超過三次！\")\n",
    "            break\n",
    "        else:\n",
    "            word=input(\"請輸入密碼\")\n",
    "    else:\n",
    "        print(\"密碼輸入正確，歡迎使用本系統！\")\n",
    "        break\n",
    "    "
   ]
  },
  {
   "cell_type": "markdown",
   "metadata": {},
   "source": [
    "9.畫出下列三種排列的星星圖形。\n",
    "        (1)\t*         (2)  * * * * *    (3)       *\n",
    "          \t* *              * * * *            * * *\n",
    "          \t* * *              * * *          * * * * *  \n",
    "          \t* * * *              * *        * * * * * * *\n",
    "          \t* * * * *              *      * * * * * * * * *\n"
   ]
  },
  {
   "cell_type": "code",
   "execution_count": 44,
   "metadata": {},
   "outputs": [
    {
     "name": "stdout",
     "output_type": "stream",
     "text": [
      "請問你想要的星星圖型有幾層5\n",
      "\n",
      "* \n",
      "* * \n",
      "* * * \n",
      "* * * * \n",
      "* * * * * \n"
     ]
    }
   ],
   "source": [
    "n = eval(input(\"請問你想要的星星圖型有幾層\"))\n",
    "for i in range(n+1):    \n",
    "    for b in range(i):    \n",
    "        print('* ',end='')\n",
    "    print('\\n',end='')"
   ]
  },
  {
   "cell_type": "code",
   "execution_count": 50,
   "metadata": {},
   "outputs": [
    {
     "name": "stdout",
     "output_type": "stream",
     "text": [
      "請問你想要的星星圖型有幾層5\n",
      "*****\n",
      " ****\n",
      "  ***\n",
      "   **\n",
      "    *\n"
     ]
    }
   ],
   "source": [
    "n = eval(input(\"請問你想要的星星圖型有幾層\"))\n",
    "for i in range(n,0,-1):\n",
    "    for a in range(n-i):\n",
    "        print(' ',end='')\n",
    "    for b in range(i):    \n",
    "        print('*',end='')\n",
    "    print('\\n',end='')  "
   ]
  },
  {
   "cell_type": "code",
   "execution_count": 46,
   "metadata": {},
   "outputs": [
    {
     "name": "stdout",
     "output_type": "stream",
     "text": [
      "請問你想要的星星圖型有幾層5\n",
      "    *\n",
      "   ***\n",
      "  *****\n",
      " *******\n",
      "*********\n"
     ]
    }
   ],
   "source": [
    "n = eval(input(\"請問你想要的星星圖型有幾層\"))\n",
    "for i in range(n):\n",
    "    for a in range(n-i-1):\n",
    "        print(' ',end='')\n",
    "    for b in range(2*i+1):    \n",
    "        print('*',end='')\n",
    "    print('\\n',end='')  "
   ]
  }
 ],
 "metadata": {
  "kernelspec": {
   "display_name": "Python 3",
   "language": "python",
   "name": "python3"
  },
  "language_info": {
   "codemirror_mode": {
    "name": "ipython",
    "version": 3
   },
   "file_extension": ".py",
   "mimetype": "text/x-python",
   "name": "python",
   "nbconvert_exporter": "python",
   "pygments_lexer": "ipython3",
   "version": "3.8.5"
  },
  "varInspector": {
   "cols": {
    "lenName": 16,
    "lenType": 16,
    "lenVar": 40
   },
   "kernels_config": {
    "python": {
     "delete_cmd_postfix": "",
     "delete_cmd_prefix": "del ",
     "library": "var_list.py",
     "varRefreshCmd": "print(var_dic_list())"
    },
    "r": {
     "delete_cmd_postfix": ") ",
     "delete_cmd_prefix": "rm(",
     "library": "var_list.r",
     "varRefreshCmd": "cat(var_dic_list()) "
    }
   },
   "types_to_exclude": [
    "module",
    "function",
    "builtin_function_or_method",
    "instance",
    "_Feature"
   ],
   "window_display": false
  }
 },
 "nbformat": 4,
 "nbformat_minor": 5
}
